{
 "cells": [
  {
   "cell_type": "markdown",
   "id": "fe79c9b7",
   "metadata": {},
   "source": [
    "# Bin Problem"
   ]
  },
  {
   "cell_type": "code",
   "execution_count": 12,
   "id": "9b4fd1cd",
   "metadata": {},
   "outputs": [],
   "source": [
    "from docplex.cp.model import CpoModel"
   ]
  },
  {
   "cell_type": "markdown",
   "id": "24af6672",
   "metadata": {},
   "source": [
    "## Definding the Variables"
   ]
  },
  {
   "cell_type": "code",
   "execution_count": 24,
   "id": "0c6fed85",
   "metadata": {},
   "outputs": [],
   "source": [
    "items = [\n",
    "    {\"name\": \"A\", \"width\": 3, \"height\": 3, \"length\": 10, \"count\": 10},\n",
    "    {\"name\": \"B\", \"width\": 4, \"height\": 1, \"length\": 10, \"count\": 15},\n",
    "    {\"name\": \"C\", \"width\": 2, \"height\": 5, \"length\": 10, \"count\": 10},\n",
    "]\n",
    "\n",
    "containers = [\n",
    "    {\"name\": \"S\", \"width\": 20, \"height\": 50, \"length\": 100},\n",
    "    {\"name\": \"M\", \"width\": 40, \"height\": 100, \"length\": 100},\n",
    "]"
   ]
  },
  {
   "cell_type": "markdown",
   "id": "e06e8898",
   "metadata": {},
   "source": [
    "## Initialize Model"
   ]
  },
  {
   "cell_type": "code",
   "execution_count": 25,
   "id": "dbcbaa7f",
   "metadata": {},
   "outputs": [],
   "source": [
    "model = CpoModel(name=\"3D_Bin_Packing\")"
   ]
  },
  {
   "cell_type": "markdown",
   "id": "d3b0656d",
   "metadata": {},
   "source": [
    "## Variables\n",
    "\n",
    "### Whether an item of type i is placed in container j"
   ]
  },
  {
   "cell_type": "code",
   "execution_count": 26,
   "id": "774c614c",
   "metadata": {},
   "outputs": [],
   "source": [
    "x = {\n",
    "    (i, j): model.integer_var(0, items[i][\"count\"], name=f\"x_{i}_{j}\")\n",
    "    for i in range(len(items))\n",
    "    for j in range(len(containers))\n",
    "}"
   ]
  },
  {
   "cell_type": "code",
   "execution_count": 27,
   "id": "1b6f39b6",
   "metadata": {},
   "outputs": [],
   "source": [
    "y = {\n",
    "    j: model.binary_var(name=f\"y_{j}\")\n",
    "    for j in range(len(containers))\n",
    "}"
   ]
  },
  {
   "cell_type": "markdown",
   "id": "79e62724",
   "metadata": {},
   "source": [
    "## Total number of containers used"
   ]
  },
  {
   "cell_type": "code",
   "execution_count": 28,
   "id": "c3072ae0",
   "metadata": {},
   "outputs": [],
   "source": [
    "num_containers_used = model.integer_var(0, len(containers), name=\"num_containers_used\")"
   ]
  },
  {
   "cell_type": "markdown",
   "id": "c29296a3",
   "metadata": {},
   "source": [
    "## Constraints\n",
    "\n",
    "### 1. Ensure all items are packed"
   ]
  },
  {
   "cell_type": "code",
   "execution_count": 29,
   "id": "99e10947",
   "metadata": {},
   "outputs": [],
   "source": [
    "for i, item in enumerate(items):\n",
    "    model.add(\n",
    "        model.sum(x[i, j] for j in range(len(containers))) == item[\"count\"]\n",
    "    )"
   ]
  },
  {
   "cell_type": "markdown",
   "id": "f218230c",
   "metadata": {},
   "source": [
    "### 2. Ensure container capacities are respected"
   ]
  },
  {
   "cell_type": "code",
   "execution_count": 30,
   "id": "b72fc270",
   "metadata": {},
   "outputs": [],
   "source": [
    "for j, container in enumerate(containers):\n",
    "    model.add(\n",
    "        model.sum(\n",
    "            x[i, j] * items[i][\"width\"] * items[i][\"height\"] * items[i][\"length\"]\n",
    "            for i in range(len(items))\n",
    "        )\n",
    "        <= container[\"width\"] * container[\"height\"] * container[\"length\"]\n",
    "    )"
   ]
  },
  {
   "cell_type": "markdown",
   "id": "e7c6a9b8",
   "metadata": {},
   "source": [
    "### 3. Ensure containers are only counted as used if they contain items"
   ]
  },
  {
   "cell_type": "code",
   "execution_count": 31,
   "id": "7efcdf80",
   "metadata": {},
   "outputs": [],
   "source": [
    "for j in range(len(containers)):\n",
    "    model.add(\n",
    "        model.sum(x[i, j] for i in range(len(items))) <= 100000 * y[j]  # Large constant\n",
    "    )"
   ]
  },
  {
   "cell_type": "markdown",
   "id": "d4b90cbd",
   "metadata": {},
   "source": [
    "## Objective Function"
   ]
  },
  {
   "cell_type": "code",
   "execution_count": 32,
   "id": "cba00fe4",
   "metadata": {},
   "outputs": [],
   "source": [
    "model.add(model.minimize(model.sum(y[j] for j in range(len(containers)))))"
   ]
  },
  {
   "cell_type": "markdown",
   "id": "73040aa9",
   "metadata": {},
   "source": [
    "## Solving Model"
   ]
  },
  {
   "cell_type": "code",
   "execution_count": 33,
   "id": "998b472f",
   "metadata": {},
   "outputs": [
    {
     "name": "stdout",
     "output_type": "stream",
     "text": [
      " ! --------------------------------------------------- CP Optimizer 22.1.1.0 --\n",
      " ! Minimization problem - 8 variables, 7 constraints\n",
      " ! Presolve      : 2 extractables eliminated\n",
      " ! Initial process time : 0.01s (0.01s extraction + 0.00s propagation)\n",
      " !  . Log search space  : 12.9 (before), 12.9 (after)\n",
      " !  . Memory usage      : 267.8 kB (before), 267.8 kB (after)\n",
      " ! Using parallel search with 16 workers.\n",
      " ! ----------------------------------------------------------------------------\n",
      " !          Best Branches  Non-fixed    W       Branch decision\n",
      "                        0          5                 -\n",
      " + New bound is 0\n",
      "                        0          5    1   F        -\n",
      " + New bound is 1\n",
      " *             1        1  0.02s        1      (gap is 0.00%)\n",
      " ! ----------------------------------------------------------------------------\n",
      " ! Search completed, 1 solution found.\n",
      " ! Best objective         : 1 (optimal - effective tol. is 0)\n",
      " ! Best bound             : 1\n",
      " ! ----------------------------------------------------------------------------\n",
      " ! Number of branches     : 300\n",
      " ! Number of fails        : 198\n",
      " ! Total memory usage     : 7.2 MB (7.1 MB CP Optimizer + 0.0 MB Concert)\n",
      " ! Time spent in solve    : 0.02s (0.02s engine + 0.01s extraction)\n",
      " ! Search speed (br. / s) : 20000.0\n",
      " ! ----------------------------------------------------------------------------\n"
     ]
    }
   ],
   "source": [
    "solution = model.solve()"
   ]
  },
  {
   "cell_type": "markdown",
   "id": "4d24d4d8",
   "metadata": {},
   "source": [
    "## Displaying the Results"
   ]
  },
  {
   "cell_type": "code",
   "execution_count": 34,
   "id": "d71f02d5",
   "metadata": {},
   "outputs": [
    {
     "name": "stdout",
     "output_type": "stream",
     "text": [
      "Optimal solution found!\n",
      "Container S:\n",
      "  Item A: 10\n",
      "  Item B: 15\n",
      "  Item C: 10\n",
      "Container M:\n",
      "Total Containers Used: 1\n"
     ]
    }
   ],
   "source": [
    "if solution:\n",
    "    print(\"Optimal solution found!\")\n",
    "    for j, container in enumerate(containers):\n",
    "        print(f\"Container {container['name']}:\")\n",
    "        for i, item in enumerate(items):\n",
    "            count = solution[x[i, j]]\n",
    "            if count > 0:\n",
    "                print(f\"  Item {item['name']}: {count}\")\n",
    "    print(f\"Total Containers Used: {sum(solution[y[j]] for j in range(len(containers)))}\")\n",
    "else:\n",
    "    print(\"No solution found.\")"
   ]
  },
  {
   "cell_type": "markdown",
   "id": "a700b27f",
   "metadata": {},
   "source": [
    "# End of The Code"
   ]
  }
 ],
 "metadata": {
  "kernelspec": {
   "display_name": "Python 3 (ipykernel)",
   "language": "python",
   "name": "python3"
  },
  "language_info": {
   "codemirror_mode": {
    "name": "ipython",
    "version": 3
   },
   "file_extension": ".py",
   "mimetype": "text/x-python",
   "name": "python",
   "nbconvert_exporter": "python",
   "pygments_lexer": "ipython3",
   "version": "3.9.13"
  }
 },
 "nbformat": 4,
 "nbformat_minor": 5
}
